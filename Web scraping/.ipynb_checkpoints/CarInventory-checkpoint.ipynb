{
 "cells": [
  {
   "cell_type": "code",
   "execution_count": 6,
   "metadata": {},
   "outputs": [],
   "source": [
    "from bs4 import BeautifulSoup\n",
    "import requests\n",
    "import pandas as pd\n",
    "import csv"
   ]
  },
  {
   "cell_type": "code",
   "execution_count": 7,
   "metadata": {},
   "outputs": [],
   "source": [
    "def get_data(url):\n",
    "    page = requests.get(url, headers=header)\n",
    "    soup = BeautifulSoup(page.content, \"html.parser\")\n",
    "    return soup"
   ]
  },
  {
   "cell_type": "code",
   "execution_count": 8,
   "metadata": {},
   "outputs": [],
   "source": [
    "def get_car_details(soup):\n",
    "\n",
    "    titles = soup.find_all('h2', attrs={'class': \"title\"})\n",
    "    car_names = [title.text for title in titles]\n",
    "    \n",
    "    stock_type = soup.find_all('p', attrs={'class': \"stock-type\"})\n",
    "    usages = [usage.text for usage in stock_type]\n",
    "    \n",
    "    distance_run = soup.find_all(data_qa=\"mileage\")\n",
    "    mileages = [mileage.text for mileage in distance_run]\n",
    "    \n",
    "    primary_price = soup.find_all('span', attrs={'class': \"primary-price\"})\n",
    "    prices = [price.text for price in primary_price]\n",
    "    \n",
    "    website_link = soup.find_all('a', attrs={'class': \"vehicle-card-link js-gallery-click-link\"})\n",
    "    Web = \"https://www.cars.com\"\n",
    "    links = [Web + link.get(\"href\") for link in website_link]\n",
    "    \n",
    "    dealers = soup.find_all('div', attrs={'class': \"dealer-name\"})\n",
    "    dealer_names = [dealer.text.strip() for dealer in dealers]\n",
    "    \n",
    "    distance = soup.find_all('div', attrs={'class': \"miles-from\"})\n",
    "    miles_from = [mile_from.text.strip() for mile_from in distance]\n",
    "         \n",
    "    count = len(car_names)\n",
    "    used_car_count = 0\n",
    "    for car_name, usage, price, link, dealer_name, mile_from in zip(car_names, usages, prices, links, dealer_names, miles_from):\n",
    "        if usage == 'New':\n",
    "            new_row = {'Name': car_name, 'Stock_type': usage, 'Mileage': 0, 'Primary_price': price, 'Website_link': link, 'Dealer_name': dealer_name, 'Distance_from': mile_from}    \n",
    "        else:\n",
    "            new_row = {'Name': car_name, 'Stock_type': usage, 'Mileage': mileages[used_car_count], 'Primary_price': price, 'Website_link': link, 'Dealer_name': dealer_name, 'Distance_from': mile_from}\n",
    "            used_car_count += 1\n",
    "        df.loc[len(df)] = new_row\n",
    "        \n",
    "    return df\n"
   ]
  },
  {
   "cell_type": "code",
   "execution_count": 9,
   "metadata": {},
   "outputs": [],
   "source": [
    "def get_next_page(soup):\n",
    "    search_page = soup.find('a', attrs={'aria-label': \"Next page\"}).get('href')\n",
    "    return search_page\n"
   ]
  },
  {
   "cell_type": "code",
   "execution_count": 10,
   "metadata": {},
   "outputs": [],
   "source": [
    "website = \"https://www.cars.com/\"\n",
    "search_page = \"shopping/results/?body_style_slugs[]=sedan&dealer_id=&keyword=&list_price_max=&list_price_min=&makes[]=&maximum_distance=30&mileage_max=&monthly_payment=&page_size=20&sort=best_match_desc&year_max=&year_min=&zip=02466\"\n",
    "header = ({'User-Agent': 'Mozilla/5.0 (Windows NT 10.0; Win64; x64) AppleWebKit/537.36 (KHTML, like Gecko) Chrome/118.0.0.0 Safari/537.36', 'Accept-Language': 'en-US, en;q=0.5'})       #user agent\n"
   ]
  },
  {
   "cell_type": "code",
   "execution_count": 11,
   "metadata": {},
   "outputs": [],
   "source": [
    "df_header = ['Name', 'Stock_type', 'Mileage', 'Primary_price', 'Website_link', 'Dealer_name', 'Distance_from']\n",
    "df = pd.DataFrame(columns = df_header)\n",
    "\n",
    "with open('CarsInventory.csv', 'w', encoding='utf8',newline='') as f:\n",
    "    writer = csv.writer(f)\n",
    "    writer.writerow(df_header)"
   ]
  },
  {
   "cell_type": "code",
   "execution_count": 14,
   "metadata": {},
   "outputs": [],
   "source": [
    "#while True:\n",
    "#    if not search_page:\n",
    "#        break\n",
    "\n",
    "for i in range(1,4):\n",
    "    soup = get_data(website+search_page)\n",
    "    df_car_details = get_car_details(soup)\n",
    "    search_page = get_next_page(soup)\n",
    "\n",
    "df_car_details.to_csv(r'C:\\Users\\nthkr\\OneDrive\\Desktop\\Work\\Projects\\PortfolioProjects\\Web scraping\\CarsInventory.csv', mode='a', index=False, header=False)\n",
    "\n",
    "    "
   ]
  },
  {
   "cell_type": "code",
   "execution_count": null,
   "metadata": {},
   "outputs": [],
   "source": []
  }
 ],
 "metadata": {
  "kernelspec": {
   "display_name": "Python 3 (ipykernel)",
   "language": "python",
   "name": "python3"
  },
  "language_info": {
   "codemirror_mode": {
    "name": "ipython",
    "version": 3
   },
   "file_extension": ".py",
   "mimetype": "text/x-python",
   "name": "python",
   "nbconvert_exporter": "python",
   "pygments_lexer": "ipython3",
   "version": "3.9.13"
  }
 },
 "nbformat": 4,
 "nbformat_minor": 4
}
